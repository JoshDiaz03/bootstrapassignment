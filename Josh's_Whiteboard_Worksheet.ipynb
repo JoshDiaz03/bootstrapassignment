{
  "nbformat": 4,
  "nbformat_minor": 0,
  "metadata": {
    "colab": {
      "provenance": [],
      "include_colab_link": true
    },
    "kernelspec": {
      "name": "python3",
      "display_name": "Python 3"
    },
    "language_info": {
      "name": "python"
    }
  },
  "cells": [
    {
      "cell_type": "markdown",
      "metadata": {
        "id": "view-in-github",
        "colab_type": "text"
      },
      "source": [
        "<a href=\"https://colab.research.google.com/github/JoshDiaz03/bootstrapassignment/blob/main/Josh's_Whiteboard_Worksheet.ipynb\" target=\"_parent\"><img src=\"https://colab.research.google.com/assets/colab-badge.svg\" alt=\"Open In Colab\"/></a>"
      ]
    },
    {
      "cell_type": "markdown",
      "source": [
        "# **WHITEBOARD WORKSHEET**\n",
        "\n",
        "\n",
        "Note: This Is Not a Quiz!\n",
        "\n",
        "---\n",
        "\n",
        "\n",
        "Please remember that this exercise is designed to guide your problem-solving process and build your skills. There are no 'wrong' answers here; the aim is for you to think systematically about tackling coding challenges. Your ability to think and articulate your process is just as important—if not more so—than arriving at a perfect solution. Make sure to fill out the question\n"
      ],
      "metadata": {
        "id": "GUw0VVNEWw1n"
      }
    },
    {
      "cell_type": "markdown",
      "source": [
        "# Simple Pig Latin\n",
        "Move the first letter of each word to the end of it, then add \"ay\" to the end of the word. Leave punctuation marks untouched.\n",
        "\n",
        "# Examples\n",
        "pig_it('Pig latin is cool') -> igPay atinlay siay oolcay.\n",
        "\n",
        "pig_it('Hello world !')    -> elloHay orldway !"
      ],
      "metadata": {
        "id": "xPx7_QPbXtjX"
      }
    },
    {
      "cell_type": "markdown",
      "source": [
        "# Instructions:\n",
        "1. Take a **deep breath**. Seriously, it helps!\n",
        "2. Work through each step and answer the questions before moving on to the next.\n",
        "3. You're not judged on speed, but on your thinking process and eventual implementation.\n",
        "4. If you get stuck, that’s okay! Note down where you are struggling; these are opportunities for learning.\n",
        "5. Once you've filled out each section, you may proceed to coding your solution.\n"
      ],
      "metadata": {
        "id": "G93fG-dlYY8q"
      }
    },
    {
      "cell_type": "markdown",
      "source": [
        "Step 1: Understand the Problem\n",
        "\n",
        "- Question: Can you rephrase the problem in your own words?\n",
        "- Checklist:\n",
        "  - Identify the input and output.\n",
        "  - Identify any constraints (time complexity, space, etc.).\n"
      ],
      "metadata": {
        "id": "21p5pPxFY6kA"
      }
    },
    {
      "cell_type": "code",
      "source": [
        "#put first letter of each word at the end of the word and add \"ay\"\n",
        "#string\n",
        "#string"
      ],
      "metadata": {
        "id": "Kq4uHpT4Y-5L"
      },
      "execution_count": null,
      "outputs": []
    },
    {
      "cell_type": "markdown",
      "source": [
        "Step 2: Examples and Test Cases\n",
        "\n",
        "- Question: Can you provide examples or test cases?\n",
        "- Checklist:\n",
        "  - Work through small examples.\n",
        "  - Think about edge cases.\n"
      ],
      "metadata": {
        "id": "pqWcGO9_ZF4Z"
      }
    },
    {
      "cell_type": "code",
      "source": [
        "#pig to igpay\n",
        "#latin to atinlay\n",
        "#is to siay\n",
        "# cool to oolcay\n",
        "#only alphabetical input can be changed over to pig latin, only words longer than two characters."
      ],
      "metadata": {
        "id": "AVsvHo4rZJY8"
      },
      "execution_count": null,
      "outputs": []
    },
    {
      "cell_type": "markdown",
      "source": [
        "Step 3: Brainstorm Approaches\n",
        "\n",
        "- Question: What are some possible ways to solve the problem?\n",
        "- Checklist:\n",
        "  - List down at least 2-3 approaches.\n",
        "  - Briefly write pros and cons for each.\n"
      ],
      "metadata": {
        "id": "9AoscdZOZLSK"
      }
    },
    {
      "cell_type": "code",
      "source": [
        "#loop through the sentence to find each first word -\n",
        "#swap first letter of each word to end of the word\n",
        "#rewrite the word in pig latin - igpay"
      ],
      "metadata": {
        "id": "mnmeCOTdZPOc"
      },
      "execution_count": null,
      "outputs": []
    },
    {
      "cell_type": "markdown",
      "source": [
        "Step 4: Plan Your Solution (Pseudocode)\n",
        "\n",
        "- Question: Can you outline your chosen approach in pseudocode?\n",
        "- Checklist:\n",
        "  - Write pseudocode for main logic.\n",
        "  - Identify data structures needed.\n"
      ],
      "metadata": {
        "id": "HYo0ZCWLZQzh"
      }
    },
    {
      "cell_type": "code",
      "source": [
        "from os import WCOREDUMP\n",
        "// Define a function called translate_to_pig_in\n",
        "\n"
      ],
      "metadata": {
        "id": "m8eF2mrgZe70"
      },
      "execution_count": null,
      "outputs": []
    },
    {
      "cell_type": "markdown",
      "source": [],
      "metadata": {
        "id": "WB0gw2CXBxzM"
      }
    },
    {
      "cell_type": "markdown",
      "source": [
        "Step 5: Potential Issues\n",
        "\n",
        "- Question: What could go wrong with this solution?\n",
        "- Checklist:\n",
        "  - Think about time complexity.\n",
        "  - Any logical flaws?\n",
        "  - Are all edge cases covered?\n"
      ],
      "metadata": {
        "id": "MvbWnwf-Zid6"
      }
    },
    {
      "cell_type": "code",
      "source": [],
      "metadata": {
        "id": "95pXidUkZoG_"
      },
      "execution_count": null,
      "outputs": []
    },
    {
      "cell_type": "markdown",
      "source": [
        "Step 6: Dry Run\n",
        "\n",
        "- Question: Can you walk through your pseudocode with a sample input?\n",
        "- Checklist:\n",
        "  - Manually execute pseudocode.\n",
        "  - Verify output with examples.\n"
      ],
      "metadata": {
        "id": "sOsV9VE2Zsn8"
      }
    },
    {
      "cell_type": "code",
      "source": [],
      "metadata": {
        "id": "ZU1pVP9AZv7P"
      },
      "execution_count": null,
      "outputs": []
    },
    {
      "cell_type": "markdown",
      "source": [
        "Step 7: Proceed to Coding\n",
        "\n",
        "- Reminder: You may now proceed to your code editor done with the hard part!\n",
        "\n"
      ],
      "metadata": {
        "id": "AeZzmhuBZxDI"
      }
    },
    {
      "cell_type": "code",
      "source": [
        "# Simple Pig Latin\n",
        "# Move the first letter of each word to the end of it, then add \"ay\" to the end of the word. Leave punctuation marks untouched.\n",
        "\n",
        "# Examples\n",
        "# pig_it('Pig latin is cool') -> igPay atinlay siay oolcay.\n",
        "\n",
        "# pig_it('Hello world !') -> elloHay orldway !\n"
      ],
      "metadata": {
        "id": "JHvpJGrMaB6l"
      },
      "execution_count": null,
      "outputs": []
    }
  ]
}